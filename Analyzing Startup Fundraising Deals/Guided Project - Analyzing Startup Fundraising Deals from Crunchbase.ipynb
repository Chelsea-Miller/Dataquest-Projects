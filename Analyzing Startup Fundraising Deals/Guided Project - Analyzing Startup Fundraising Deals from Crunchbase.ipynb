{
 "cells": [
  {
   "cell_type": "markdown",
   "metadata": {},
   "source": [
    "# Read Data  \n",
    "Dataquest instructions: \n",
    "1. Read in data set of investments from October 2013 (https://github.com/datahoarder/crunchbase-october-2013/blob/master/crunchbase-investments.csv)  \n",
    "    * Assume we only have 10 megabytes of available memory (set chunksize to 5000).  \n",
    "2. Become familiar with:  \n",
    "    * Each column's missing value counts  \n",
    "    * Each column's memory footprint  \n",
    "    * The total memory footprint of all the chunks combined  \n",
    "    * Which column(s) can be dropped because they aren't useful for analysis"
   ]
  },
  {
   "cell_type": "code",
   "execution_count": 86,
   "metadata": {},
   "outputs": [],
   "source": [
    "import pandas as pd\n",
    "import pprint as pp\n",
    "pd.options.display.max_columns = 99"
   ]
  },
  {
   "cell_type": "markdown",
   "metadata": {},
   "source": [
    "Calculate the number of missing values in each column"
   ]
  },
  {
   "cell_type": "code",
   "execution_count": 7,
   "metadata": {},
   "outputs": [],
   "source": [
    "chunk_iter = pd.read_csv('crunchbase-investments.csv', chunksize=5000, encoding='ISO-8859-1')\n",
    "missing_values = []\n",
    "for chunk in chunk_iter:\n",
    "    missing_values.append(chunk.isnull().sum())"
   ]
  },
  {
   "cell_type": "code",
   "execution_count": 10,
   "metadata": {},
   "outputs": [],
   "source": [
    "combined_missing_values = pd.concat(missing_values)"
   ]
  },
  {
   "cell_type": "code",
   "execution_count": 24,
   "metadata": {},
   "outputs": [],
   "source": [
    "unique_missing_values = combined_missing_values.groupby(combined_missing_values.index).sum().sort_values()"
   ]
  },
  {
   "cell_type": "code",
   "execution_count": 25,
   "metadata": {},
   "outputs": [
    {
     "data": {
      "text/plain": [
       "company_country_code          1\n",
       "company_name                  1\n",
       "company_permalink             1\n",
       "company_region                1\n",
       "investor_region               2\n",
       "investor_permalink            2\n",
       "investor_name                 2\n",
       "funded_quarter                3\n",
       "funded_at                     3\n",
       "funded_month                  3\n",
       "funded_year                   3\n",
       "funding_round_type            3\n",
       "company_state_code          492\n",
       "company_city                533\n",
       "company_category_code       643\n",
       "raised_amount_usd          3599\n",
       "investor_country_code     12001\n",
       "investor_city             12480\n",
       "investor_state_code       16809\n",
       "investor_category_code    50427\n",
       "dtype: int64"
      ]
     },
     "execution_count": 25,
     "metadata": {},
     "output_type": "execute_result"
    }
   ],
   "source": [
    "unique_missing_values"
   ]
  },
  {
   "cell_type": "markdown",
   "metadata": {},
   "source": [
    "Calculate the memory footprint of each column (bytes)"
   ]
  },
  {
   "cell_type": "code",
   "execution_count": 28,
   "metadata": {},
   "outputs": [],
   "source": [
    "chunk_iter = pd.read_csv('crunchbase-investments.csv', chunksize=5000, encoding='ISO-8859-1')\n",
    "memory_footprint = []\n",
    "for chunk in chunk_iter:\n",
    "    memory_footprint.append((chunk.memory_usage(deep=True)))"
   ]
  },
  {
   "cell_type": "code",
   "execution_count": 30,
   "metadata": {},
   "outputs": [],
   "source": [
    "combined_memory_footprint = pd.concat(memory_footprint)"
   ]
  },
  {
   "cell_type": "code",
   "execution_count": 36,
   "metadata": {},
   "outputs": [
    {
     "data": {
      "text/plain": [
       "company_category_code     3421104\n",
       "company_city              3505906\n",
       "company_country_code      3172176\n",
       "company_name              3591326\n",
       "company_permalink         4057788\n",
       "company_region            3411565\n",
       "company_state_code        3106051\n",
       "funded_at                 3542185\n",
       "funded_month              3383584\n",
       "funded_quarter            3383584\n",
       "funded_year                422960\n",
       "funding_round_type        3410707\n",
       "investor_category_code     622424\n",
       "investor_city             2885083\n",
       "investor_country_code     2647292\n",
       "investor_name             3915666\n",
       "investor_permalink        4980548\n",
       "investor_region           3396281\n",
       "investor_state_code       2476607\n",
       "raised_amount_usd          422960\n",
       "dtype: int64"
      ]
     },
     "execution_count": 36,
     "metadata": {},
     "output_type": "execute_result"
    }
   ],
   "source": [
    "column_memory_footprint = combined_memory_footprint.groupby(combined_memory_footprint.index).sum().drop('Index')\n",
    "column_memory_footprint"
   ]
  },
  {
   "cell_type": "markdown",
   "metadata": {},
   "source": [
    "Calculate the total memory footprint of the data (megabytes)"
   ]
  },
  {
   "cell_type": "code",
   "execution_count": 38,
   "metadata": {},
   "outputs": [
    {
     "data": {
      "text/plain": [
       "56.987568855285645"
      ]
     },
     "execution_count": 38,
     "metadata": {},
     "output_type": "execute_result"
    }
   ],
   "source": [
    "column_memory_footprint.sum()/(2**20)"
   ]
  },
  {
   "cell_type": "markdown",
   "metadata": {},
   "source": [
    "Create a list with columns that won't be used in the analysis. These include:  \n",
    "* Columns with URL data  \n",
    "* Columns with many missing values  "
   ]
  },
  {
   "cell_type": "code",
   "execution_count": 41,
   "metadata": {},
   "outputs": [],
   "source": [
    "drop_cols = ['investor_permalink', 'company_permalink', 'investor_category_code']\n",
    "keep_cols = chunk.columns.drop(drop_cols)"
   ]
  },
  {
   "cell_type": "markdown",
   "metadata": {},
   "source": [
    "# Select Data Types  \n",
    "Dataquest instructions:  \n",
    "1. Identify the types for each column.  \n",
    "2. Identify the numeric columns that can use for space efficient data types.  \n",
    "3. For text columns:  \n",
    "    * Analyze the unique value counts across all of the chunks to see if they can be converted to a numeric type.  \n",
    "    * See if any text columns can be cleaned and converted to numeric types.   "
   ]
  },
  {
   "cell_type": "markdown",
   "metadata": {},
   "source": [
    "Identify the types for each column  "
   ]
  },
  {
   "cell_type": "code",
   "execution_count": 110,
   "metadata": {},
   "outputs": [],
   "source": [
    "chunk_iter = pd.read_csv('crunchbase-investments.csv', chunksize=5000, encoding='ISO-8859-1')\n",
    "dtype_dict = {}\n",
    "for chunk in chunk_iter:\n",
    "    for col in chunk.columns:\n",
    "        if col not in dtype_dict:\n",
    "            dtype_dict[col] = [str(chunk.dtypes[col])]\n",
    "        else:\n",
    "            dtype_dict[col].append(str(chunk.dtypes[col]))"
   ]
  },
  {
   "cell_type": "code",
   "execution_count": 116,
   "metadata": {},
   "outputs": [],
   "source": [
    "unique_dtype_dict = {}\n",
    "for key, value in dtype_dict.items():\n",
    "    unique_dtype_dict[key] = set(dtype_dict[key])"
   ]
  },
  {
   "cell_type": "code",
   "execution_count": 117,
   "metadata": {},
   "outputs": [
    {
     "data": {
      "text/plain": [
       "{'company_permalink': {'object'},\n",
       " 'company_name': {'object'},\n",
       " 'company_category_code': {'object'},\n",
       " 'company_country_code': {'object'},\n",
       " 'company_state_code': {'object'},\n",
       " 'company_region': {'object'},\n",
       " 'company_city': {'object'},\n",
       " 'investor_permalink': {'object'},\n",
       " 'investor_name': {'object'},\n",
       " 'investor_category_code': {'float64', 'object'},\n",
       " 'investor_country_code': {'float64', 'object'},\n",
       " 'investor_state_code': {'float64', 'object'},\n",
       " 'investor_region': {'object'},\n",
       " 'investor_city': {'float64', 'object'},\n",
       " 'funding_round_type': {'object'},\n",
       " 'funded_at': {'object'},\n",
       " 'funded_month': {'object'},\n",
       " 'funded_quarter': {'object'},\n",
       " 'funded_year': {'float64', 'int64'},\n",
       " 'raised_amount_usd': {'float64'}}"
      ]
     },
     "execution_count": 117,
     "metadata": {},
     "output_type": "execute_result"
    }
   ],
   "source": [
    "unique_dtype_dict"
   ]
  },
  {
   "cell_type": "markdown",
   "metadata": {},
   "source": [
    "Investigate numeric columns to see which can be converted to more space efficient types"
   ]
  },
  {
   "cell_type": "code",
   "execution_count": 119,
   "metadata": {},
   "outputs": [
    {
     "name": "stdout",
     "output_type": "stream",
     "text": [
      "investor_category_code\n",
      "advertising     22\n",
      "biotech        161\n",
      "cleantech       34\n",
      "consulting      66\n",
      "ecommerce       46\n",
      "Name: investor_category_code, dtype: int64\n",
      "---------------------\n",
      "Series([], Name: investor_category_code, dtype: int64)\n",
      "---------------------\n"
     ]
    }
   ],
   "source": [
    "numeric_cols = ['investor_category_code', 'investor_country_code', 'investor_state_code', 'investor_city', 'funded_year', 'raised_amount_usd']\n",
    "chunk_iter = pd.read_csv('crunchbase-investments.csv', chunksize=5000, encoding='ISO-8859-1')\n",
    "# Look at 2 chunks for investor_category_code since the dtype is only numeric in chunks 2-11. \n",
    "counter = 0\n",
    "for chunk in chunk_iter:\n",
    "    if counter < 2:\n",
    "        print(chunk[numeric_cols[0]].groupby(chunk[numeric_cols[0]]).count()[:5])\n",
    "        print('---------------------')\n",
    "        #print(chunk[numeric_cols[1]].head(5))\n",
    "        #print(chunk[numeric_cols[2]].head(5))\n",
    "        counter += 1\n",
    "    else:\n",
    "        break"
   ]
  },
  {
   "cell_type": "markdown",
   "metadata": {},
   "source": [
    "Observations:  \n",
    "1. investor_category_code is actually a string column. After the first chunk, this columns contains missing values which pandas reads in as float64.  "
   ]
  },
  {
   "cell_type": "code",
   "execution_count": 122,
   "metadata": {},
   "outputs": [
    {
     "data": {
      "text/html": [
       "<div>\n",
       "<style scoped>\n",
       "    .dataframe tbody tr th:only-of-type {\n",
       "        vertical-align: middle;\n",
       "    }\n",
       "\n",
       "    .dataframe tbody tr th {\n",
       "        vertical-align: top;\n",
       "    }\n",
       "\n",
       "    .dataframe thead th {\n",
       "        text-align: right;\n",
       "    }\n",
       "</style>\n",
       "<table border=\"1\" class=\"dataframe\">\n",
       "  <thead>\n",
       "    <tr style=\"text-align: right;\">\n",
       "      <th></th>\n",
       "      <th>investor_category_code</th>\n",
       "      <th>investor_country_code</th>\n",
       "      <th>investor_state_code</th>\n",
       "      <th>investor_city</th>\n",
       "      <th>funded_year</th>\n",
       "      <th>raised_amount_usd</th>\n",
       "    </tr>\n",
       "  </thead>\n",
       "  <tbody>\n",
       "    <tr>\n",
       "      <th>10000</th>\n",
       "      <td>NaN</td>\n",
       "      <td>USA</td>\n",
       "      <td>CT</td>\n",
       "      <td>Greenwich</td>\n",
       "      <td>2009</td>\n",
       "      <td>37400000.0</td>\n",
       "    </tr>\n",
       "    <tr>\n",
       "      <th>10001</th>\n",
       "      <td>NaN</td>\n",
       "      <td>USA</td>\n",
       "      <td>CT</td>\n",
       "      <td>Greenwich</td>\n",
       "      <td>2009</td>\n",
       "      <td>6000000.0</td>\n",
       "    </tr>\n",
       "    <tr>\n",
       "      <th>10002</th>\n",
       "      <td>NaN</td>\n",
       "      <td>USA</td>\n",
       "      <td>CT</td>\n",
       "      <td>Greenwich</td>\n",
       "      <td>2007</td>\n",
       "      <td>22300000.0</td>\n",
       "    </tr>\n",
       "    <tr>\n",
       "      <th>10003</th>\n",
       "      <td>NaN</td>\n",
       "      <td>BEL</td>\n",
       "      <td>NaN</td>\n",
       "      <td>Leuven</td>\n",
       "      <td>2007</td>\n",
       "      <td>8387128.0</td>\n",
       "    </tr>\n",
       "    <tr>\n",
       "      <th>10004</th>\n",
       "      <td>NaN</td>\n",
       "      <td>BEL</td>\n",
       "      <td>NaN</td>\n",
       "      <td>Leuven</td>\n",
       "      <td>2011</td>\n",
       "      <td>15700000.0</td>\n",
       "    </tr>\n",
       "  </tbody>\n",
       "</table>\n",
       "</div>"
      ],
      "text/plain": [
       "       investor_category_code investor_country_code investor_state_code  \\\n",
       "10000                     NaN                   USA                  CT   \n",
       "10001                     NaN                   USA                  CT   \n",
       "10002                     NaN                   USA                  CT   \n",
       "10003                     NaN                   BEL                 NaN   \n",
       "10004                     NaN                   BEL                 NaN   \n",
       "\n",
       "      investor_city  funded_year  raised_amount_usd  \n",
       "10000     Greenwich         2009         37400000.0  \n",
       "10001     Greenwich         2009          6000000.0  \n",
       "10002     Greenwich         2007         22300000.0  \n",
       "10003        Leuven         2007          8387128.0  \n",
       "10004        Leuven         2011         15700000.0  "
      ]
     },
     "execution_count": 122,
     "metadata": {},
     "output_type": "execute_result"
    }
   ],
   "source": [
    "chunk[numeric_cols].head(5)"
   ]
  },
  {
   "cell_type": "markdown",
   "metadata": {},
   "source": [
    "Observations continued...  \n",
    "2. investor_country_code, investor_state_code, and investor_city also contain string data.  \n",
    "3. funded_year contains the year which can be converted to a short integer type as long as rows where funded_year is missing are removed (integer type doesn't have the equivalent of NaN to fill in missing data).  \n",
    "4. I'll use a float type for the amount raised in usd."
   ]
  },
  {
   "cell_type": "code",
   "execution_count": 128,
   "metadata": {},
   "outputs": [],
   "source": [
    "numeric_cols = ['funded_year', 'raised_amount_usd']"
   ]
  },
  {
   "cell_type": "code",
   "execution_count": 129,
   "metadata": {},
   "outputs": [],
   "source": [
    "string_cols = keep_cols.drop(numeric_cols)"
   ]
  },
  {
   "cell_type": "code",
   "execution_count": 133,
   "metadata": {},
   "outputs": [
    {
     "data": {
      "text/html": [
       "<div>\n",
       "<style scoped>\n",
       "    .dataframe tbody tr th:only-of-type {\n",
       "        vertical-align: middle;\n",
       "    }\n",
       "\n",
       "    .dataframe tbody tr th {\n",
       "        vertical-align: top;\n",
       "    }\n",
       "\n",
       "    .dataframe thead th {\n",
       "        text-align: right;\n",
       "    }\n",
       "</style>\n",
       "<table border=\"1\" class=\"dataframe\">\n",
       "  <thead>\n",
       "    <tr style=\"text-align: right;\">\n",
       "      <th></th>\n",
       "      <th>company_name</th>\n",
       "      <th>company_category_code</th>\n",
       "      <th>company_country_code</th>\n",
       "      <th>company_state_code</th>\n",
       "      <th>company_region</th>\n",
       "      <th>company_city</th>\n",
       "      <th>investor_name</th>\n",
       "      <th>investor_country_code</th>\n",
       "      <th>investor_state_code</th>\n",
       "      <th>investor_region</th>\n",
       "      <th>investor_city</th>\n",
       "      <th>funding_round_type</th>\n",
       "      <th>funded_at</th>\n",
       "      <th>funded_month</th>\n",
       "      <th>funded_quarter</th>\n",
       "    </tr>\n",
       "  </thead>\n",
       "  <tbody>\n",
       "    <tr>\n",
       "      <th>10000</th>\n",
       "      <td>Zag</td>\n",
       "      <td>search</td>\n",
       "      <td>USA</td>\n",
       "      <td>CA</td>\n",
       "      <td>Los Angeles</td>\n",
       "      <td>Santa Monica</td>\n",
       "      <td>Capricorn Management</td>\n",
       "      <td>USA</td>\n",
       "      <td>CT</td>\n",
       "      <td>New York</td>\n",
       "      <td>Greenwich</td>\n",
       "      <td>series-c+</td>\n",
       "      <td>2009-02-05</td>\n",
       "      <td>2009-02</td>\n",
       "      <td>2009-Q1</td>\n",
       "    </tr>\n",
       "    <tr>\n",
       "      <th>10001</th>\n",
       "      <td>FRX Polymers</td>\n",
       "      <td>cleantech</td>\n",
       "      <td>USA</td>\n",
       "      <td>MA</td>\n",
       "      <td>Boston</td>\n",
       "      <td>Chelmsford</td>\n",
       "      <td>Capricorn Management</td>\n",
       "      <td>USA</td>\n",
       "      <td>CT</td>\n",
       "      <td>New York</td>\n",
       "      <td>Greenwich</td>\n",
       "      <td>series-a</td>\n",
       "      <td>2009-07-27</td>\n",
       "      <td>2009-07</td>\n",
       "      <td>2009-Q3</td>\n",
       "    </tr>\n",
       "    <tr>\n",
       "      <th>10002</th>\n",
       "      <td>Targeted Growth</td>\n",
       "      <td>biotech</td>\n",
       "      <td>USA</td>\n",
       "      <td>WA</td>\n",
       "      <td>Seattle</td>\n",
       "      <td>Seattle</td>\n",
       "      <td>Capricorn Management</td>\n",
       "      <td>USA</td>\n",
       "      <td>CT</td>\n",
       "      <td>New York</td>\n",
       "      <td>Greenwich</td>\n",
       "      <td>venture</td>\n",
       "      <td>2007-02-07</td>\n",
       "      <td>2007-02</td>\n",
       "      <td>2007-Q1</td>\n",
       "    </tr>\n",
       "    <tr>\n",
       "      <th>10003</th>\n",
       "      <td>Mendel Biotechnology</td>\n",
       "      <td>biotech</td>\n",
       "      <td>USA</td>\n",
       "      <td>CA</td>\n",
       "      <td>SF Bay</td>\n",
       "      <td>Hayward</td>\n",
       "      <td>Capricorn Venture Partners</td>\n",
       "      <td>BEL</td>\n",
       "      <td>NaN</td>\n",
       "      <td>Leuven</td>\n",
       "      <td>Leuven</td>\n",
       "      <td>private-equity</td>\n",
       "      <td>2007-06-13</td>\n",
       "      <td>2007-06</td>\n",
       "      <td>2007-Q2</td>\n",
       "    </tr>\n",
       "    <tr>\n",
       "      <th>10004</th>\n",
       "      <td>FRX Polymers</td>\n",
       "      <td>cleantech</td>\n",
       "      <td>USA</td>\n",
       "      <td>MA</td>\n",
       "      <td>Boston</td>\n",
       "      <td>Chelmsford</td>\n",
       "      <td>Capricorn Venture Partners</td>\n",
       "      <td>BEL</td>\n",
       "      <td>NaN</td>\n",
       "      <td>Leuven</td>\n",
       "      <td>Leuven</td>\n",
       "      <td>series-b</td>\n",
       "      <td>2011-06-06</td>\n",
       "      <td>2011-06</td>\n",
       "      <td>2011-Q2</td>\n",
       "    </tr>\n",
       "  </tbody>\n",
       "</table>\n",
       "</div>"
      ],
      "text/plain": [
       "               company_name company_category_code company_country_code  \\\n",
       "10000                   Zag                search                  USA   \n",
       "10001          FRX Polymers             cleantech                  USA   \n",
       "10002       Targeted Growth               biotech                  USA   \n",
       "10003  Mendel Biotechnology               biotech                  USA   \n",
       "10004          FRX Polymers             cleantech                  USA   \n",
       "\n",
       "      company_state_code company_region  company_city  \\\n",
       "10000                 CA    Los Angeles  Santa Monica   \n",
       "10001                 MA         Boston    Chelmsford   \n",
       "10002                 WA        Seattle       Seattle   \n",
       "10003                 CA         SF Bay       Hayward   \n",
       "10004                 MA         Boston    Chelmsford   \n",
       "\n",
       "                    investor_name investor_country_code investor_state_code  \\\n",
       "10000        Capricorn Management                   USA                  CT   \n",
       "10001        Capricorn Management                   USA                  CT   \n",
       "10002        Capricorn Management                   USA                  CT   \n",
       "10003  Capricorn Venture Partners                   BEL                 NaN   \n",
       "10004  Capricorn Venture Partners                   BEL                 NaN   \n",
       "\n",
       "      investor_region investor_city funding_round_type   funded_at  \\\n",
       "10000        New York     Greenwich          series-c+  2009-02-05   \n",
       "10001        New York     Greenwich           series-a  2009-07-27   \n",
       "10002        New York     Greenwich            venture  2007-02-07   \n",
       "10003          Leuven        Leuven     private-equity  2007-06-13   \n",
       "10004          Leuven        Leuven           series-b  2011-06-06   \n",
       "\n",
       "      funded_month funded_quarter  \n",
       "10000      2009-02        2009-Q1  \n",
       "10001      2009-07        2009-Q3  \n",
       "10002      2007-02        2007-Q1  \n",
       "10003      2007-06        2007-Q2  \n",
       "10004      2011-06        2011-Q2  "
      ]
     },
     "execution_count": 133,
     "metadata": {},
     "output_type": "execute_result"
    }
   ],
   "source": [
    "chunk[string_cols].head(5)"
   ]
  },
  {
   "cell_type": "markdown",
   "metadata": {},
   "source": [
    "The following columns can be cleaned and converted to a numeric type"
   ]
  },
  {
   "cell_type": "code",
   "execution_count": 134,
   "metadata": {},
   "outputs": [],
   "source": [
    "cols_to_clean = ['funded_at', 'funded_month', 'funded_quarter']"
   ]
  },
  {
   "cell_type": "code",
   "execution_count": 137,
   "metadata": {},
   "outputs": [
    {
     "data": {
      "text/plain": [
       "Index(['company_name', 'company_category_code', 'company_country_code',\n",
       "       'company_state_code', 'company_region', 'company_city', 'investor_name',\n",
       "       'investor_country_code', 'investor_state_code', 'investor_region',\n",
       "       'investor_city', 'funding_round_type', 'funded_at', 'funded_month',\n",
       "       'funded_quarter', 'funded_year', 'raised_amount_usd'],\n",
       "      dtype='object')"
      ]
     },
     "execution_count": 137,
     "metadata": {},
     "output_type": "execute_result"
    }
   ],
   "source": [
    "keep_cols"
   ]
  },
  {
   "cell_type": "markdown",
   "metadata": {},
   "source": [
    "# Write the data to a SQLite database  "
   ]
  },
  {
   "cell_type": "code",
   "execution_count": 159,
   "metadata": {},
   "outputs": [],
   "source": [
    "# Connect to sqlite3\n",
    "import sqlite3\n",
    "conn = sqlite3.connect('crunchbase.db')"
   ]
  },
  {
   "cell_type": "markdown",
   "metadata": {},
   "source": [
    "Write the data to the newly created table.  \n",
    "I'm going to use float for all numeric columns so I can avoid dropping rows with null values in numeric columns."
   ]
  },
  {
   "cell_type": "code",
   "execution_count": 155,
   "metadata": {},
   "outputs": [],
   "source": [
    "final_cols = ['company_name', 'company_category_code', 'company_country_code',\n",
    "       'company_state_code', 'company_region', 'company_city', 'investor_name',\n",
    "       'investor_country_code', 'investor_state_code', 'investor_region',\n",
    "       'investor_city', 'funding_round_type', 'funded_day', 'funded_month',\n",
    "       'funded_quarter', 'funded_year', 'raised_amount_usd']"
   ]
  },
  {
   "cell_type": "code",
   "execution_count": 160,
   "metadata": {},
   "outputs": [],
   "source": [
    "chunk_iter = pd.read_csv('crunchbase-investments.csv', chunksize=5000, encoding='ISO-8859-1')\n",
    "for chunk in chunk_iter:\n",
    "    chunk['funded_day'] = chunk['funded_at'].str.split('-').str[-1].astype('float64')\n",
    "    chunk['funded_month'] = chunk['funded_month'].str.split('-').str[-1].astype('float64')\n",
    "    chunk['funded_quarter'] =  chunk['funded_quarter'].str.split('Q').str[-1].astype('float64')\n",
    "    for col in numeric_cols:\n",
    "        chunk[col] = chunk[col].astype('float64')\n",
    "    chunk = chunk.filter(final_cols)\n",
    "    chunk.to_sql('crunchbase_investments', conn, if_exists='append', index=False)"
   ]
  },
  {
   "cell_type": "markdown",
   "metadata": {},
   "source": [
    "Query the table to make sure the data types match up to what I expect."
   ]
  },
  {
   "cell_type": "code",
   "execution_count": 162,
   "metadata": {},
   "outputs": [],
   "source": [
    "df = pd.read_sql('SELECT * FROM crunchbase_investments', conn)"
   ]
  },
  {
   "cell_type": "code",
   "execution_count": 165,
   "metadata": {},
   "outputs": [
    {
     "data": {
      "text/plain": [
       "company_name              object\n",
       "company_category_code     object\n",
       "company_country_code      object\n",
       "company_state_code        object\n",
       "company_region            object\n",
       "company_city              object\n",
       "investor_name             object\n",
       "investor_country_code     object\n",
       "investor_state_code       object\n",
       "investor_region           object\n",
       "investor_city             object\n",
       "funding_round_type        object\n",
       "funded_day               float64\n",
       "funded_month             float64\n",
       "funded_quarter           float64\n",
       "funded_year              float64\n",
       "raised_amount_usd        float64\n",
       "dtype: object"
      ]
     },
     "execution_count": 165,
     "metadata": {},
     "output_type": "execute_result"
    }
   ],
   "source": [
    "df.dtypes"
   ]
  },
  {
   "cell_type": "markdown",
   "metadata": {},
   "source": [
    "Use the !wc IPython command to return the file size of the database."
   ]
  },
  {
   "cell_type": "markdown",
   "metadata": {},
   "source": [
    "This unix command doesn't work in my Jupyter notebook since I'm working with Windows. However, I can run it in a bash terminal and I get 6,197,248 bytes when I run the following:  \n",
    "```\n",
    "wc -c crunchbase.db\n",
    "```"
   ]
  },
  {
   "cell_type": "code",
   "execution_count": 208,
   "metadata": {},
   "outputs": [
    {
     "name": "stdout",
     "output_type": "stream",
     "text": [
      "Database size (Mb):\n",
      "6\n"
     ]
    }
   ],
   "source": [
    "db_size = 6197248\n",
    "print('Database size (Mb):')\n",
    "print(round(db_size/(2**20)))"
   ]
  },
  {
   "cell_type": "markdown",
   "metadata": {},
   "source": [
    "# Investigate Data  \n",
    "Use the pandas SQLite workflow to answer the following questions:  \n",
    "1. What proportion of the total amount of funds did the top 10% raise? What about the top 1%? Compare these values to the proportions the bottom 10% and bottom 1% raised.  \n",
    "2. Which category of company attracted the most investments?  \n",
    "3. Which investor contributed the most money (across all startups)?  \n",
    "4. Which investors contributed the most money per startup?  \n",
    "5. Which funding round was the most popular? Which was the least popular?  \n"
   ]
  },
  {
   "cell_type": "code",
   "execution_count": 186,
   "metadata": {},
   "outputs": [],
   "source": [
    "# Select the part of the table that is needed to answer question 1. Use pandas for the computation part.\n",
    "query = 'SELECT company_name, raised_amount_usd from crunchbase_investments'\n",
    "funds_df = pd.read_sql(query, conn)\n",
    "funds_unique = funds_df.groupby('company_name').sum().sort_values(by='raised_amount_usd', ascending=False)\n",
    "number_of_companies = len(funds_unique)\n",
    "ten_percent = round(number_of_companies*.1)\n",
    "one_percent = round(number_of_companies*.01)"
   ]
  },
  {
   "cell_type": "code",
   "execution_count": 192,
   "metadata": {},
   "outputs": [],
   "source": [
    "top_10_sum = funds_unique.iloc[0:ten_percent]['raised_amount_usd'].sum()\n",
    "top_1_sum = funds_unique.iloc[0:one_percent]['raised_amount_usd'].sum()\n",
    "bottom_10_sum = funds_unique.iloc[-ten_percent:]['raised_amount_usd'].sum()\n",
    "bottom_1_sum = funds_unique.iloc[-one_percent:]['raised_amount_usd'].sum()\n",
    "total_raised = funds_unique['raised_amount_usd'].sum()"
   ]
  },
  {
   "cell_type": "markdown",
   "metadata": {},
   "source": [
    "What proportion of the total amount of funds did the top 10% raise? What about the top 1%? Compare these values to the proportions the bottom 10% and bottom 1% raised."
   ]
  },
  {
   "cell_type": "code",
   "execution_count": 196,
   "metadata": {},
   "outputs": [
    {
     "name": "stdout",
     "output_type": "stream",
     "text": [
      "Proportion of the total funds raised by the top 10% of companies:\n",
      "0.6712772709906496\n",
      "\n",
      "Proportion of the total funds raised by the top 1% of companies:\n",
      "0.2631143683289076\n",
      "\n",
      "Proportion of the total funds raised by the bottom 10% of companies:\n",
      "0.0\n",
      "\n",
      "Proportion of the total funds raised by the bottom 1% of companies:\n",
      "0.0\n"
     ]
    }
   ],
   "source": [
    "print('Proportion of the total funds raised by the top 10% of companies:')\n",
    "print(top_10_sum/total_raised)\n",
    "print('\\nProportion of the total funds raised by the top 1% of companies:')\n",
    "print(top_1_sum/total_raised)\n",
    "print('\\nProportion of the total funds raised by the bottom 10% of companies:')\n",
    "print(bottom_10_sum/total_raised)\n",
    "print('\\nProportion of the total funds raised by the bottom 1% of companies:')\n",
    "print(bottom_1_sum/total_raised)"
   ]
  },
  {
   "cell_type": "markdown",
   "metadata": {},
   "source": [
    "Which category of company attracted the most investments?"
   ]
  },
  {
   "cell_type": "code",
   "execution_count": 198,
   "metadata": {},
   "outputs": [
    {
     "data": {
      "text/html": [
       "<div>\n",
       "<style scoped>\n",
       "    .dataframe tbody tr th:only-of-type {\n",
       "        vertical-align: middle;\n",
       "    }\n",
       "\n",
       "    .dataframe tbody tr th {\n",
       "        vertical-align: top;\n",
       "    }\n",
       "\n",
       "    .dataframe thead th {\n",
       "        text-align: right;\n",
       "    }\n",
       "</style>\n",
       "<table border=\"1\" class=\"dataframe\">\n",
       "  <thead>\n",
       "    <tr style=\"text-align: right;\">\n",
       "      <th></th>\n",
       "      <th>raised_amount_usd</th>\n",
       "    </tr>\n",
       "    <tr>\n",
       "      <th>company_category_code</th>\n",
       "      <th></th>\n",
       "    </tr>\n",
       "  </thead>\n",
       "  <tbody>\n",
       "    <tr>\n",
       "      <th>biotech</th>\n",
       "      <td>1.103964e+11</td>\n",
       "    </tr>\n",
       "    <tr>\n",
       "      <th>software</th>\n",
       "      <td>7.308452e+10</td>\n",
       "    </tr>\n",
       "    <tr>\n",
       "      <th>mobile</th>\n",
       "      <td>6.477738e+10</td>\n",
       "    </tr>\n",
       "    <tr>\n",
       "      <th>cleantech</th>\n",
       "      <td>5.270523e+10</td>\n",
       "    </tr>\n",
       "    <tr>\n",
       "      <th>enterprise</th>\n",
       "      <td>4.586093e+10</td>\n",
       "    </tr>\n",
       "  </tbody>\n",
       "</table>\n",
       "</div>"
      ],
      "text/plain": [
       "                       raised_amount_usd\n",
       "company_category_code                   \n",
       "biotech                     1.103964e+11\n",
       "software                    7.308452e+10\n",
       "mobile                      6.477738e+10\n",
       "cleantech                   5.270523e+10\n",
       "enterprise                  4.586093e+10"
      ]
     },
     "execution_count": 198,
     "metadata": {},
     "output_type": "execute_result"
    }
   ],
   "source": [
    "# Select the part of the table that is needed to answer question 2. Use pandas for the computation part.\n",
    "query = 'SELECT company_category_code, raised_amount_usd from crunchbase_investments'\n",
    "category_df = pd.read_sql(query, conn)\n",
    "category_df_grouped = category_df.groupby('company_category_code').sum().sort_values(by='raised_amount_usd', ascending=False)\n",
    "category_df_grouped.head(5)"
   ]
  },
  {
   "cell_type": "markdown",
   "metadata": {},
   "source": [
    "Which investor contributed the most money (across all startups)?"
   ]
  },
  {
   "cell_type": "code",
   "execution_count": 199,
   "metadata": {},
   "outputs": [
    {
     "data": {
      "text/html": [
       "<div>\n",
       "<style scoped>\n",
       "    .dataframe tbody tr th:only-of-type {\n",
       "        vertical-align: middle;\n",
       "    }\n",
       "\n",
       "    .dataframe tbody tr th {\n",
       "        vertical-align: top;\n",
       "    }\n",
       "\n",
       "    .dataframe thead th {\n",
       "        text-align: right;\n",
       "    }\n",
       "</style>\n",
       "<table border=\"1\" class=\"dataframe\">\n",
       "  <thead>\n",
       "    <tr style=\"text-align: right;\">\n",
       "      <th></th>\n",
       "      <th>raised_amount_usd</th>\n",
       "    </tr>\n",
       "    <tr>\n",
       "      <th>investor_name</th>\n",
       "      <th></th>\n",
       "    </tr>\n",
       "  </thead>\n",
       "  <tbody>\n",
       "    <tr>\n",
       "      <th>Kleiner Perkins Caufield &amp; Byers</th>\n",
       "      <td>1.121783e+10</td>\n",
       "    </tr>\n",
       "    <tr>\n",
       "      <th>New Enterprise Associates</th>\n",
       "      <td>9.692542e+09</td>\n",
       "    </tr>\n",
       "    <tr>\n",
       "      <th>Accel Partners</th>\n",
       "      <td>6.472126e+09</td>\n",
       "    </tr>\n",
       "    <tr>\n",
       "      <th>Goldman Sachs</th>\n",
       "      <td>6.375459e+09</td>\n",
       "    </tr>\n",
       "    <tr>\n",
       "      <th>Sequoia Capital</th>\n",
       "      <td>6.039402e+09</td>\n",
       "    </tr>\n",
       "  </tbody>\n",
       "</table>\n",
       "</div>"
      ],
      "text/plain": [
       "                                  raised_amount_usd\n",
       "investor_name                                      \n",
       "Kleiner Perkins Caufield & Byers       1.121783e+10\n",
       "New Enterprise Associates              9.692542e+09\n",
       "Accel Partners                         6.472126e+09\n",
       "Goldman Sachs                          6.375459e+09\n",
       "Sequoia Capital                        6.039402e+09"
      ]
     },
     "execution_count": 199,
     "metadata": {},
     "output_type": "execute_result"
    }
   ],
   "source": [
    "# Select the part of the table that is needed to answer question 3. Use pandas for the computation part.\n",
    "query = 'SELECT investor_name, raised_amount_usd from crunchbase_investments'\n",
    "investor_df = pd.read_sql(query, conn)\n",
    "investor_df_grouped = investor_df.groupby('investor_name').sum().sort_values(by='raised_amount_usd', ascending=False)\n",
    "investor_df_grouped.head(5)"
   ]
  },
  {
   "cell_type": "markdown",
   "metadata": {},
   "source": [
    "Which investors contributed the most money per startup?"
   ]
  },
  {
   "cell_type": "code",
   "execution_count": 201,
   "metadata": {},
   "outputs": [
    {
     "data": {
      "text/html": [
       "<div>\n",
       "<style scoped>\n",
       "    .dataframe tbody tr th:only-of-type {\n",
       "        vertical-align: middle;\n",
       "    }\n",
       "\n",
       "    .dataframe tbody tr th {\n",
       "        vertical-align: top;\n",
       "    }\n",
       "\n",
       "    .dataframe thead th {\n",
       "        text-align: right;\n",
       "    }\n",
       "</style>\n",
       "<table border=\"1\" class=\"dataframe\">\n",
       "  <thead>\n",
       "    <tr style=\"text-align: right;\">\n",
       "      <th></th>\n",
       "      <th>investor_name</th>\n",
       "      <th>raised_amount_usd</th>\n",
       "    </tr>\n",
       "  </thead>\n",
       "  <tbody>\n",
       "    <tr>\n",
       "      <th>1350</th>\n",
       "      <td>Intel</td>\n",
       "      <td>3.200000e+09</td>\n",
       "    </tr>\n",
       "    <tr>\n",
       "      <th>1172</th>\n",
       "      <td>Google</td>\n",
       "      <td>3.200000e+09</td>\n",
       "    </tr>\n",
       "    <tr>\n",
       "      <th>716</th>\n",
       "      <td>Comcast</td>\n",
       "      <td>3.200000e+09</td>\n",
       "    </tr>\n",
       "    <tr>\n",
       "      <th>522</th>\n",
       "      <td>BrightHouse</td>\n",
       "      <td>3.200000e+09</td>\n",
       "    </tr>\n",
       "    <tr>\n",
       "      <th>2853</th>\n",
       "      <td>Time Warner</td>\n",
       "      <td>3.200000e+09</td>\n",
       "    </tr>\n",
       "  </tbody>\n",
       "</table>\n",
       "</div>"
      ],
      "text/plain": [
       "     investor_name  raised_amount_usd\n",
       "1350         Intel       3.200000e+09\n",
       "1172        Google       3.200000e+09\n",
       "716        Comcast       3.200000e+09\n",
       "522    BrightHouse       3.200000e+09\n",
       "2853   Time Warner       3.200000e+09"
      ]
     },
     "execution_count": 201,
     "metadata": {},
     "output_type": "execute_result"
    }
   ],
   "source": [
    "# Select the part of the table that is needed to answer question 4. Use pandas for the computation part.\n",
    "query = 'SELECT investor_name, raised_amount_usd from crunchbase_investments'\n",
    "investor_df = pd.read_sql(query, conn)\n",
    "investor_df_sort = investor_df.sort_values(by='raised_amount_usd', ascending=False)\n",
    "investor_df_sort.head(5)"
   ]
  },
  {
   "cell_type": "markdown",
   "metadata": {},
   "source": [
    "Which funding round was the most popular? Which was the least popular?"
   ]
  },
  {
   "cell_type": "code",
   "execution_count": 202,
   "metadata": {},
   "outputs": [
    {
     "data": {
      "text/html": [
       "<div>\n",
       "<style scoped>\n",
       "    .dataframe tbody tr th:only-of-type {\n",
       "        vertical-align: middle;\n",
       "    }\n",
       "\n",
       "    .dataframe tbody tr th {\n",
       "        vertical-align: top;\n",
       "    }\n",
       "\n",
       "    .dataframe thead th {\n",
       "        text-align: right;\n",
       "    }\n",
       "</style>\n",
       "<table border=\"1\" class=\"dataframe\">\n",
       "  <thead>\n",
       "    <tr style=\"text-align: right;\">\n",
       "      <th></th>\n",
       "      <th>raised_amount_usd</th>\n",
       "    </tr>\n",
       "    <tr>\n",
       "      <th>funding_round_type</th>\n",
       "      <th></th>\n",
       "    </tr>\n",
       "  </thead>\n",
       "  <tbody>\n",
       "    <tr>\n",
       "      <th>series-c+</th>\n",
       "      <td>2.657535e+11</td>\n",
       "    </tr>\n",
       "    <tr>\n",
       "      <th>venture</th>\n",
       "      <td>1.305565e+11</td>\n",
       "    </tr>\n",
       "    <tr>\n",
       "      <th>series-b</th>\n",
       "      <td>1.283268e+11</td>\n",
       "    </tr>\n",
       "    <tr>\n",
       "      <th>series-a</th>\n",
       "      <td>8.654215e+10</td>\n",
       "    </tr>\n",
       "    <tr>\n",
       "      <th>post-ipo</th>\n",
       "      <td>3.091760e+10</td>\n",
       "    </tr>\n",
       "  </tbody>\n",
       "</table>\n",
       "</div>"
      ],
      "text/plain": [
       "                    raised_amount_usd\n",
       "funding_round_type                   \n",
       "series-c+                2.657535e+11\n",
       "venture                  1.305565e+11\n",
       "series-b                 1.283268e+11\n",
       "series-a                 8.654215e+10\n",
       "post-ipo                 3.091760e+10"
      ]
     },
     "execution_count": 202,
     "metadata": {},
     "output_type": "execute_result"
    }
   ],
   "source": [
    "# Select the part of the table that is needed to answer question 5. Use pandas for the computation part.\n",
    "query = 'SELECT funding_round_type, raised_amount_usd from crunchbase_investments'\n",
    "funding_round_df = pd.read_sql(query, conn)\n",
    "funding_round_grouped = funding_round_df.groupby('funding_round_type').sum().sort_values(by='raised_amount_usd', ascending=False)\n",
    "funding_round_grouped.head(5)"
   ]
  },
  {
   "cell_type": "code",
   "execution_count": 204,
   "metadata": {},
   "outputs": [
    {
     "data": {
      "text/html": [
       "<div>\n",
       "<style scoped>\n",
       "    .dataframe tbody tr th:only-of-type {\n",
       "        vertical-align: middle;\n",
       "    }\n",
       "\n",
       "    .dataframe tbody tr th {\n",
       "        vertical-align: top;\n",
       "    }\n",
       "\n",
       "    .dataframe thead th {\n",
       "        text-align: right;\n",
       "    }\n",
       "</style>\n",
       "<table border=\"1\" class=\"dataframe\">\n",
       "  <thead>\n",
       "    <tr style=\"text-align: right;\">\n",
       "      <th></th>\n",
       "      <th>raised_amount_usd</th>\n",
       "    </tr>\n",
       "    <tr>\n",
       "      <th>funding_round_type</th>\n",
       "      <th></th>\n",
       "    </tr>\n",
       "  </thead>\n",
       "  <tbody>\n",
       "    <tr>\n",
       "      <th>crowdfunding</th>\n",
       "      <td>6.491500e+06</td>\n",
       "    </tr>\n",
       "    <tr>\n",
       "      <th>angel</th>\n",
       "      <td>4.962075e+09</td>\n",
       "    </tr>\n",
       "    <tr>\n",
       "      <th>private-equity</th>\n",
       "      <td>1.615988e+10</td>\n",
       "    </tr>\n",
       "    <tr>\n",
       "      <th>other</th>\n",
       "      <td>1.850726e+10</td>\n",
       "    </tr>\n",
       "    <tr>\n",
       "      <th>post-ipo</th>\n",
       "      <td>3.091760e+10</td>\n",
       "    </tr>\n",
       "  </tbody>\n",
       "</table>\n",
       "</div>"
      ],
      "text/plain": [
       "                    raised_amount_usd\n",
       "funding_round_type                   \n",
       "crowdfunding             6.491500e+06\n",
       "angel                    4.962075e+09\n",
       "private-equity           1.615988e+10\n",
       "other                    1.850726e+10\n",
       "post-ipo                 3.091760e+10"
      ]
     },
     "execution_count": 204,
     "metadata": {},
     "output_type": "execute_result"
    }
   ],
   "source": [
    "# In order of least popular\n",
    "funding_round_grouped.sort_values(by='raised_amount_usd', ascending=True).head(5)"
   ]
  },
  {
   "cell_type": "code",
   "execution_count": null,
   "metadata": {},
   "outputs": [],
   "source": []
  }
 ],
 "metadata": {
  "kernelspec": {
   "display_name": "Python 3",
   "language": "python",
   "name": "python3"
  },
  "language_info": {
   "codemirror_mode": {
    "name": "ipython",
    "version": 3
   },
   "file_extension": ".py",
   "mimetype": "text/x-python",
   "name": "python",
   "nbconvert_exporter": "python",
   "pygments_lexer": "ipython3",
   "version": "3.6.5"
  }
 },
 "nbformat": 4,
 "nbformat_minor": 2
}
