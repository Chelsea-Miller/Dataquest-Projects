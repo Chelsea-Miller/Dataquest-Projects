{
 "cells": [
  {
   "cell_type": "markdown",
   "metadata": {},
   "source": [
    "# Project Goals:  \n",
    "Create a database to store tables for the International Hurricane Watchgroup (IHW) which meets the following requirements:  \n",
    "1. A table in the database should contain all the fields detailed in the csv file available here:  \n",
    "https://dq-content.s3.amazonaws.com/251/storm_data.csv  \n",
    "2. There should be a user created that can update, read, and insert into a table in the database.  \n",
    "3. The data in the csv file mentioned above should be loaded into the table mentioned in 1."
   ]
  },
  {
   "cell_type": "markdown",
   "metadata": {},
   "source": [
    "## Read the csv file"
   ]
  },
  {
   "cell_type": "code",
   "execution_count": 8,
   "metadata": {},
   "outputs": [],
   "source": [
    "import pandas as pd\n",
    "\n",
    "df = pd.read_csv('https://dq-content.s3.amazonaws.com/251/storm_data.csv')"
   ]
  },
  {
   "cell_type": "code",
   "execution_count": 10,
   "metadata": {},
   "outputs": [
    {
     "data": {
      "text/html": [
       "<div>\n",
       "<style scoped>\n",
       "    .dataframe tbody tr th:only-of-type {\n",
       "        vertical-align: middle;\n",
       "    }\n",
       "\n",
       "    .dataframe tbody tr th {\n",
       "        vertical-align: top;\n",
       "    }\n",
       "\n",
       "    .dataframe thead th {\n",
       "        text-align: right;\n",
       "    }\n",
       "</style>\n",
       "<table border=\"1\" class=\"dataframe\">\n",
       "  <thead>\n",
       "    <tr style=\"text-align: right;\">\n",
       "      <th></th>\n",
       "      <th>FID</th>\n",
       "      <th>YEAR</th>\n",
       "      <th>MONTH</th>\n",
       "      <th>DAY</th>\n",
       "      <th>AD_TIME</th>\n",
       "      <th>BTID</th>\n",
       "      <th>NAME</th>\n",
       "      <th>LAT</th>\n",
       "      <th>LONG</th>\n",
       "      <th>WIND_KTS</th>\n",
       "      <th>PRESSURE</th>\n",
       "      <th>CAT</th>\n",
       "      <th>BASIN</th>\n",
       "      <th>Shape_Leng</th>\n",
       "    </tr>\n",
       "  </thead>\n",
       "  <tbody>\n",
       "    <tr>\n",
       "      <th>0</th>\n",
       "      <td>2001</td>\n",
       "      <td>1957</td>\n",
       "      <td>8</td>\n",
       "      <td>8</td>\n",
       "      <td>1800Z</td>\n",
       "      <td>63</td>\n",
       "      <td>NOTNAMED</td>\n",
       "      <td>22.5</td>\n",
       "      <td>-140.0</td>\n",
       "      <td>50</td>\n",
       "      <td>0</td>\n",
       "      <td>TS</td>\n",
       "      <td>Eastern Pacific</td>\n",
       "      <td>1.140175</td>\n",
       "    </tr>\n",
       "    <tr>\n",
       "      <th>1</th>\n",
       "      <td>2002</td>\n",
       "      <td>1961</td>\n",
       "      <td>10</td>\n",
       "      <td>3</td>\n",
       "      <td>1200Z</td>\n",
       "      <td>116</td>\n",
       "      <td>PAULINE</td>\n",
       "      <td>22.1</td>\n",
       "      <td>-140.2</td>\n",
       "      <td>45</td>\n",
       "      <td>0</td>\n",
       "      <td>TS</td>\n",
       "      <td>Eastern Pacific</td>\n",
       "      <td>1.166190</td>\n",
       "    </tr>\n",
       "    <tr>\n",
       "      <th>2</th>\n",
       "      <td>2003</td>\n",
       "      <td>1962</td>\n",
       "      <td>8</td>\n",
       "      <td>29</td>\n",
       "      <td>0600Z</td>\n",
       "      <td>124</td>\n",
       "      <td>C</td>\n",
       "      <td>18.0</td>\n",
       "      <td>-140.0</td>\n",
       "      <td>45</td>\n",
       "      <td>0</td>\n",
       "      <td>TS</td>\n",
       "      <td>Eastern Pacific</td>\n",
       "      <td>2.102380</td>\n",
       "    </tr>\n",
       "  </tbody>\n",
       "</table>\n",
       "</div>"
      ],
      "text/plain": [
       "    FID  YEAR  MONTH  DAY AD_TIME  BTID      NAME   LAT   LONG  WIND_KTS  \\\n",
       "0  2001  1957      8    8   1800Z    63  NOTNAMED  22.5 -140.0        50   \n",
       "1  2002  1961     10    3   1200Z   116   PAULINE  22.1 -140.2        45   \n",
       "2  2003  1962      8   29   0600Z   124         C  18.0 -140.0        45   \n",
       "\n",
       "   PRESSURE CAT            BASIN  Shape_Leng  \n",
       "0         0  TS  Eastern Pacific    1.140175  \n",
       "1         0  TS  Eastern Pacific    1.166190  \n",
       "2         0  TS  Eastern Pacific    2.102380  "
      ]
     },
     "execution_count": 10,
     "metadata": {},
     "output_type": "execute_result"
    }
   ],
   "source": [
    "df.head(3)"
   ]
  },
  {
   "cell_type": "markdown",
   "metadata": {},
   "source": [
    "## Create the sql table for the csv file  \n",
    "Notes:  \n",
    "* The AD_TIME column is a record of the time in Coordinated Universal Time (https://en.wikipedia.org/wiki/Coordinated_Universal_Time)  "
   ]
  },
  {
   "cell_type": "code",
   "execution_count": 184,
   "metadata": {},
   "outputs": [],
   "source": [
    "import psycopg2\n",
    "conn = psycopg2.connect(dbname='postgres', user='postgres')\n",
    "cur = conn.cursor()"
   ]
  },
  {
   "cell_type": "markdown",
   "metadata": {},
   "source": [
    "##### I'll want a way to map postgresql type codes to their descriptions to help review data types."
   ]
  },
  {
   "cell_type": "code",
   "execution_count": 48,
   "metadata": {},
   "outputs": [],
   "source": [
    "# Create a mapping dictionary:\n",
    "cur.execute(\"SELECT oid, typname FROM pg_catalog.pg_type\")\n",
    "type_mappings = {}\n",
    "for oid, typename in cur.fetchall():\n",
    "    type_mappings[int(oid)] = typename"
   ]
  },
  {
   "cell_type": "markdown",
   "metadata": {},
   "source": [
    "##### Create the table and review data types"
   ]
  },
  {
   "cell_type": "code",
   "execution_count": 59,
   "metadata": {},
   "outputs": [
    {
     "name": "stdout",
     "output_type": "stream",
     "text": [
      "Minimum: 1 \n",
      "Maximum: 1410\n"
     ]
    }
   ],
   "source": [
    "# Check largest and smallest integers in the BTID columnto see if SMALLINT is an appropriate data type\n",
    "print('Minimum:', df['BTID'].min(), '\\nMaximum:', df['BTID'].max())"
   ]
  },
  {
   "cell_type": "markdown",
   "metadata": {},
   "source": [
    "The values in column BTID are between -32768 to +32767, so I can use SMALLINT (https://www.postgresql.org/docs/9.1/datatype-numeric.html)"
   ]
  },
  {
   "cell_type": "code",
   "execution_count": 61,
   "metadata": {},
   "outputs": [
    {
     "name": "stdout",
     "output_type": "stream",
     "text": [
      "Minimum: 10 \n",
      "Maximum: 165\n"
     ]
    }
   ],
   "source": [
    "# check the WIND_KTS column as well\n",
    "print('Minimum:', df['WIND_KTS'].min(), '\\nMaximum:', df['WIND_KTS'].max())"
   ]
  },
  {
   "cell_type": "code",
   "execution_count": 62,
   "metadata": {},
   "outputs": [
    {
     "name": "stdout",
     "output_type": "stream",
     "text": [
      "Minimum: 0 \n",
      "Maximum: 1024\n"
     ]
    }
   ],
   "source": [
    "# check the PRESSURE column\n",
    "print('Minimum:', df['PRESSURE'].min(), '\\nMaximum:', df['PRESSURE'].max())"
   ]
  },
  {
   "cell_type": "code",
   "execution_count": 66,
   "metadata": {},
   "outputs": [
    {
     "data": {
      "text/html": [
       "<div>\n",
       "<style scoped>\n",
       "    .dataframe tbody tr th:only-of-type {\n",
       "        vertical-align: middle;\n",
       "    }\n",
       "\n",
       "    .dataframe tbody tr th {\n",
       "        vertical-align: top;\n",
       "    }\n",
       "\n",
       "    .dataframe thead th {\n",
       "        text-align: right;\n",
       "    }\n",
       "</style>\n",
       "<table border=\"1\" class=\"dataframe\">\n",
       "  <thead>\n",
       "    <tr style=\"text-align: right;\">\n",
       "      <th></th>\n",
       "      <th>count</th>\n",
       "      <th>unique</th>\n",
       "      <th>top</th>\n",
       "      <th>freq</th>\n",
       "    </tr>\n",
       "    <tr>\n",
       "      <th>CAT</th>\n",
       "      <th></th>\n",
       "      <th></th>\n",
       "      <th></th>\n",
       "      <th></th>\n",
       "    </tr>\n",
       "  </thead>\n",
       "  <tbody>\n",
       "    <tr>\n",
       "      <th>E</th>\n",
       "      <td>3244</td>\n",
       "      <td>1</td>\n",
       "      <td>E</td>\n",
       "      <td>3244</td>\n",
       "    </tr>\n",
       "    <tr>\n",
       "      <th>H1</th>\n",
       "      <td>10658</td>\n",
       "      <td>1</td>\n",
       "      <td>H1</td>\n",
       "      <td>10658</td>\n",
       "    </tr>\n",
       "    <tr>\n",
       "      <th>H2</th>\n",
       "      <td>4685</td>\n",
       "      <td>1</td>\n",
       "      <td>H2</td>\n",
       "      <td>4685</td>\n",
       "    </tr>\n",
       "    <tr>\n",
       "      <th>H3</th>\n",
       "      <td>2607</td>\n",
       "      <td>1</td>\n",
       "      <td>H3</td>\n",
       "      <td>2607</td>\n",
       "    </tr>\n",
       "    <tr>\n",
       "      <th>H4</th>\n",
       "      <td>1445</td>\n",
       "      <td>1</td>\n",
       "      <td>H4</td>\n",
       "      <td>1445</td>\n",
       "    </tr>\n",
       "    <tr>\n",
       "      <th>H5</th>\n",
       "      <td>189</td>\n",
       "      <td>1</td>\n",
       "      <td>H5</td>\n",
       "      <td>189</td>\n",
       "    </tr>\n",
       "    <tr>\n",
       "      <th>L</th>\n",
       "      <td>942</td>\n",
       "      <td>1</td>\n",
       "      <td>L</td>\n",
       "      <td>942</td>\n",
       "    </tr>\n",
       "    <tr>\n",
       "      <th>SD</th>\n",
       "      <td>247</td>\n",
       "      <td>1</td>\n",
       "      <td>SD</td>\n",
       "      <td>247</td>\n",
       "    </tr>\n",
       "    <tr>\n",
       "      <th>SS</th>\n",
       "      <td>488</td>\n",
       "      <td>1</td>\n",
       "      <td>SS</td>\n",
       "      <td>488</td>\n",
       "    </tr>\n",
       "    <tr>\n",
       "      <th>TD</th>\n",
       "      <td>10358</td>\n",
       "      <td>1</td>\n",
       "      <td>TD</td>\n",
       "      <td>10358</td>\n",
       "    </tr>\n",
       "    <tr>\n",
       "      <th>TS</th>\n",
       "      <td>24286</td>\n",
       "      <td>1</td>\n",
       "      <td>TS</td>\n",
       "      <td>24286</td>\n",
       "    </tr>\n",
       "    <tr>\n",
       "      <th>W</th>\n",
       "      <td>79</td>\n",
       "      <td>1</td>\n",
       "      <td>W</td>\n",
       "      <td>79</td>\n",
       "    </tr>\n",
       "  </tbody>\n",
       "</table>\n",
       "</div>"
      ],
      "text/plain": [
       "     count unique top   freq\n",
       "CAT                         \n",
       "E     3244      1   E   3244\n",
       "H1   10658      1  H1  10658\n",
       "H2    4685      1  H2   4685\n",
       "H3    2607      1  H3   2607\n",
       "H4    1445      1  H4   1445\n",
       "H5     189      1  H5    189\n",
       "L      942      1   L    942\n",
       "SD     247      1  SD    247\n",
       "SS     488      1  SS    488\n",
       "TD   10358      1  TD  10358\n",
       "TS   24286      1  TS  24286\n",
       "W       79      1   W     79"
      ]
     },
     "execution_count": 66,
     "metadata": {},
     "output_type": "execute_result"
    }
   ],
   "source": [
    "# check the CAT column\n",
    "df['CAT'].groupby(df['CAT']).describe()"
   ]
  },
  {
   "cell_type": "code",
   "execution_count": 67,
   "metadata": {},
   "outputs": [
    {
     "data": {
      "text/html": [
       "<div>\n",
       "<style scoped>\n",
       "    .dataframe tbody tr th:only-of-type {\n",
       "        vertical-align: middle;\n",
       "    }\n",
       "\n",
       "    .dataframe tbody tr th {\n",
       "        vertical-align: top;\n",
       "    }\n",
       "\n",
       "    .dataframe thead th {\n",
       "        text-align: right;\n",
       "    }\n",
       "</style>\n",
       "<table border=\"1\" class=\"dataframe\">\n",
       "  <thead>\n",
       "    <tr style=\"text-align: right;\">\n",
       "      <th></th>\n",
       "      <th>count</th>\n",
       "      <th>unique</th>\n",
       "      <th>top</th>\n",
       "      <th>freq</th>\n",
       "    </tr>\n",
       "    <tr>\n",
       "      <th>BASIN</th>\n",
       "      <th></th>\n",
       "      <th></th>\n",
       "      <th></th>\n",
       "      <th></th>\n",
       "    </tr>\n",
       "  </thead>\n",
       "  <tbody>\n",
       "    <tr>\n",
       "      <th>Eastern Pacific</th>\n",
       "      <td>20391</td>\n",
       "      <td>1</td>\n",
       "      <td>Eastern Pacific</td>\n",
       "      <td>20391</td>\n",
       "    </tr>\n",
       "    <tr>\n",
       "      <th>North Atlantic</th>\n",
       "      <td>38837</td>\n",
       "      <td>1</td>\n",
       "      <td>North Atlantic</td>\n",
       "      <td>38837</td>\n",
       "    </tr>\n",
       "  </tbody>\n",
       "</table>\n",
       "</div>"
      ],
      "text/plain": [
       "                 count unique              top   freq\n",
       "BASIN                                                \n",
       "Eastern Pacific  20391      1  Eastern Pacific  20391\n",
       "North Atlantic   38837      1   North Atlantic  38837"
      ]
     },
     "execution_count": 67,
     "metadata": {},
     "output_type": "execute_result"
    }
   ],
   "source": [
    "# check the BASIN column\n",
    "df['BASIN'].groupby(df['BASIN']).describe()"
   ]
  },
  {
   "cell_type": "code",
   "execution_count": 68,
   "metadata": {},
   "outputs": [
    {
     "name": "stdout",
     "output_type": "stream",
     "text": [
      "Minimum: 0.0 \n",
      "Maximum: 11.18034\n"
     ]
    }
   ],
   "source": [
    "# check the Shape_Leng column\n",
    "print('Minimum:', df['Shape_Leng'].min(), '\\nMaximum:', df['Shape_Leng'].max())"
   ]
  },
  {
   "cell_type": "code",
   "execution_count": 161,
   "metadata": {},
   "outputs": [],
   "source": [
    "cur.execute('''CREATE TABLE storm_data (\n",
    "            id INTEGER PRIMARY KEY,\n",
    "            date_time DATE,\n",
    "            hurricane_id SMALLINT,\n",
    "            hurricane_name TEXT,\n",
    "            latitude DECIMAL(4,1),\n",
    "            longitude DECIMAL(4,1),\n",
    "            wind_speed_knots_per_second SMALLINT,\n",
    "            atmosphereic_pressure SMALLINT,\n",
    "            category VARCHAR(2),\n",
    "            basin VARCHAR(20),\n",
    "            hurricane_shape_length DECIMAL(8,6)\n",
    "            )\n",
    "            ''')\n",
    "conn.commit()"
   ]
  },
  {
   "cell_type": "code",
   "execution_count": 160,
   "metadata": {},
   "outputs": [],
   "source": [
    "#cur.execute('DROP TABLE storm_data')\n",
    "#conn.commit()"
   ]
  },
  {
   "cell_type": "code",
   "execution_count": 101,
   "metadata": {},
   "outputs": [],
   "source": [
    "cur.execute(\"SELECT * FROM storm_data\")\n",
    "summary = {}\n",
    "counter = 0\n",
    "for each in cur.description:\n",
    "    dictionary = dict(zip(each._fields, each))\n",
    "    summary[dictionary['name']] = dictionary"
   ]
  },
  {
   "cell_type": "code",
   "execution_count": 123,
   "metadata": {},
   "outputs": [],
   "source": [
    "summary_df = pd.DataFrame(summary).drop('name')"
   ]
  },
  {
   "cell_type": "code",
   "execution_count": 124,
   "metadata": {},
   "outputs": [
    {
     "data": {
      "text/html": [
       "<div>\n",
       "<style scoped>\n",
       "    .dataframe tbody tr th:only-of-type {\n",
       "        vertical-align: middle;\n",
       "    }\n",
       "\n",
       "    .dataframe tbody tr th {\n",
       "        vertical-align: top;\n",
       "    }\n",
       "\n",
       "    .dataframe thead th {\n",
       "        text-align: right;\n",
       "    }\n",
       "</style>\n",
       "<table border=\"1\" class=\"dataframe\">\n",
       "  <thead>\n",
       "    <tr style=\"text-align: right;\">\n",
       "      <th></th>\n",
       "      <th>id</th>\n",
       "      <th>date_time</th>\n",
       "      <th>hurricane_id</th>\n",
       "      <th>hurricane_name</th>\n",
       "      <th>latitude</th>\n",
       "      <th>longitude</th>\n",
       "      <th>wind_speed_knots_per_second</th>\n",
       "      <th>atmosphereic_pressure</th>\n",
       "      <th>category</th>\n",
       "      <th>basin</th>\n",
       "      <th>hurricane_shape_length</th>\n",
       "    </tr>\n",
       "  </thead>\n",
       "  <tbody>\n",
       "    <tr>\n",
       "      <th>display_size</th>\n",
       "      <td>None</td>\n",
       "      <td>None</td>\n",
       "      <td>None</td>\n",
       "      <td>None</td>\n",
       "      <td>None</td>\n",
       "      <td>None</td>\n",
       "      <td>None</td>\n",
       "      <td>None</td>\n",
       "      <td>None</td>\n",
       "      <td>None</td>\n",
       "      <td>None</td>\n",
       "    </tr>\n",
       "    <tr>\n",
       "      <th>internal_size</th>\n",
       "      <td>4</td>\n",
       "      <td>4</td>\n",
       "      <td>2</td>\n",
       "      <td>-1</td>\n",
       "      <td>4</td>\n",
       "      <td>4</td>\n",
       "      <td>2</td>\n",
       "      <td>2</td>\n",
       "      <td>2</td>\n",
       "      <td>20</td>\n",
       "      <td>7</td>\n",
       "    </tr>\n",
       "    <tr>\n",
       "      <th>null_ok</th>\n",
       "      <td>None</td>\n",
       "      <td>None</td>\n",
       "      <td>None</td>\n",
       "      <td>None</td>\n",
       "      <td>None</td>\n",
       "      <td>None</td>\n",
       "      <td>None</td>\n",
       "      <td>None</td>\n",
       "      <td>None</td>\n",
       "      <td>None</td>\n",
       "      <td>None</td>\n",
       "    </tr>\n",
       "    <tr>\n",
       "      <th>precision</th>\n",
       "      <td>None</td>\n",
       "      <td>None</td>\n",
       "      <td>None</td>\n",
       "      <td>None</td>\n",
       "      <td>4</td>\n",
       "      <td>4</td>\n",
       "      <td>None</td>\n",
       "      <td>None</td>\n",
       "      <td>None</td>\n",
       "      <td>None</td>\n",
       "      <td>7</td>\n",
       "    </tr>\n",
       "    <tr>\n",
       "      <th>scale</th>\n",
       "      <td>None</td>\n",
       "      <td>None</td>\n",
       "      <td>None</td>\n",
       "      <td>None</td>\n",
       "      <td>1</td>\n",
       "      <td>1</td>\n",
       "      <td>None</td>\n",
       "      <td>None</td>\n",
       "      <td>None</td>\n",
       "      <td>None</td>\n",
       "      <td>6</td>\n",
       "    </tr>\n",
       "    <tr>\n",
       "      <th>type_code</th>\n",
       "      <td>23</td>\n",
       "      <td>1082</td>\n",
       "      <td>21</td>\n",
       "      <td>25</td>\n",
       "      <td>1700</td>\n",
       "      <td>1700</td>\n",
       "      <td>21</td>\n",
       "      <td>21</td>\n",
       "      <td>1043</td>\n",
       "      <td>1043</td>\n",
       "      <td>1700</td>\n",
       "    </tr>\n",
       "  </tbody>\n",
       "</table>\n",
       "</div>"
      ],
      "text/plain": [
       "                 id date_time hurricane_id hurricane_name latitude longitude  \\\n",
       "display_size   None      None         None           None     None      None   \n",
       "internal_size     4         4            2             -1        4         4   \n",
       "null_ok        None      None         None           None     None      None   \n",
       "precision      None      None         None           None        4         4   \n",
       "scale          None      None         None           None        1         1   \n",
       "type_code        23      1082           21             25     1700      1700   \n",
       "\n",
       "              wind_speed_knots_per_second atmosphereic_pressure category  \\\n",
       "display_size                         None                  None     None   \n",
       "internal_size                           2                     2        2   \n",
       "null_ok                              None                  None     None   \n",
       "precision                            None                  None     None   \n",
       "scale                                None                  None     None   \n",
       "type_code                              21                    21     1043   \n",
       "\n",
       "              basin hurricane_shape_length  \n",
       "display_size   None                   None  \n",
       "internal_size    20                      7  \n",
       "null_ok        None                   None  \n",
       "precision      None                      7  \n",
       "scale          None                      6  \n",
       "type_code      1043                   1700  "
      ]
     },
     "execution_count": 124,
     "metadata": {},
     "output_type": "execute_result"
    }
   ],
   "source": [
    "summary_df"
   ]
  },
  {
   "cell_type": "markdown",
   "metadata": {},
   "source": [
    "Add the datatype description to make the summary easier to interpret."
   ]
  },
  {
   "cell_type": "code",
   "execution_count": 125,
   "metadata": {},
   "outputs": [
    {
     "data": {
      "text/html": [
       "<div>\n",
       "<style scoped>\n",
       "    .dataframe tbody tr th:only-of-type {\n",
       "        vertical-align: middle;\n",
       "    }\n",
       "\n",
       "    .dataframe tbody tr th {\n",
       "        vertical-align: top;\n",
       "    }\n",
       "\n",
       "    .dataframe thead th {\n",
       "        text-align: right;\n",
       "    }\n",
       "</style>\n",
       "<table border=\"1\" class=\"dataframe\">\n",
       "  <thead>\n",
       "    <tr style=\"text-align: right;\">\n",
       "      <th></th>\n",
       "      <th>id</th>\n",
       "      <th>date_time</th>\n",
       "      <th>hurricane_id</th>\n",
       "      <th>hurricane_name</th>\n",
       "      <th>latitude</th>\n",
       "      <th>longitude</th>\n",
       "      <th>wind_speed_knots_per_second</th>\n",
       "      <th>atmosphereic_pressure</th>\n",
       "      <th>category</th>\n",
       "      <th>basin</th>\n",
       "      <th>hurricane_shape_length</th>\n",
       "    </tr>\n",
       "  </thead>\n",
       "  <tbody>\n",
       "    <tr>\n",
       "      <th>display_size</th>\n",
       "      <td>None</td>\n",
       "      <td>None</td>\n",
       "      <td>None</td>\n",
       "      <td>None</td>\n",
       "      <td>None</td>\n",
       "      <td>None</td>\n",
       "      <td>None</td>\n",
       "      <td>None</td>\n",
       "      <td>None</td>\n",
       "      <td>None</td>\n",
       "      <td>None</td>\n",
       "    </tr>\n",
       "    <tr>\n",
       "      <th>internal_size</th>\n",
       "      <td>4</td>\n",
       "      <td>4</td>\n",
       "      <td>2</td>\n",
       "      <td>-1</td>\n",
       "      <td>4</td>\n",
       "      <td>4</td>\n",
       "      <td>2</td>\n",
       "      <td>2</td>\n",
       "      <td>2</td>\n",
       "      <td>20</td>\n",
       "      <td>7</td>\n",
       "    </tr>\n",
       "    <tr>\n",
       "      <th>null_ok</th>\n",
       "      <td>None</td>\n",
       "      <td>None</td>\n",
       "      <td>None</td>\n",
       "      <td>None</td>\n",
       "      <td>None</td>\n",
       "      <td>None</td>\n",
       "      <td>None</td>\n",
       "      <td>None</td>\n",
       "      <td>None</td>\n",
       "      <td>None</td>\n",
       "      <td>None</td>\n",
       "    </tr>\n",
       "    <tr>\n",
       "      <th>precision</th>\n",
       "      <td>None</td>\n",
       "      <td>None</td>\n",
       "      <td>None</td>\n",
       "      <td>None</td>\n",
       "      <td>4</td>\n",
       "      <td>4</td>\n",
       "      <td>None</td>\n",
       "      <td>None</td>\n",
       "      <td>None</td>\n",
       "      <td>None</td>\n",
       "      <td>7</td>\n",
       "    </tr>\n",
       "    <tr>\n",
       "      <th>scale</th>\n",
       "      <td>None</td>\n",
       "      <td>None</td>\n",
       "      <td>None</td>\n",
       "      <td>None</td>\n",
       "      <td>1</td>\n",
       "      <td>1</td>\n",
       "      <td>None</td>\n",
       "      <td>None</td>\n",
       "      <td>None</td>\n",
       "      <td>None</td>\n",
       "      <td>6</td>\n",
       "    </tr>\n",
       "    <tr>\n",
       "      <th>type_code</th>\n",
       "      <td>23</td>\n",
       "      <td>1082</td>\n",
       "      <td>21</td>\n",
       "      <td>25</td>\n",
       "      <td>1700</td>\n",
       "      <td>1700</td>\n",
       "      <td>21</td>\n",
       "      <td>21</td>\n",
       "      <td>1043</td>\n",
       "      <td>1043</td>\n",
       "      <td>1700</td>\n",
       "    </tr>\n",
       "    <tr>\n",
       "      <th>type_description</th>\n",
       "      <td>int4</td>\n",
       "      <td>date</td>\n",
       "      <td>int2</td>\n",
       "      <td>text</td>\n",
       "      <td>numeric</td>\n",
       "      <td>numeric</td>\n",
       "      <td>int2</td>\n",
       "      <td>int2</td>\n",
       "      <td>varchar</td>\n",
       "      <td>varchar</td>\n",
       "      <td>numeric</td>\n",
       "    </tr>\n",
       "  </tbody>\n",
       "</table>\n",
       "</div>"
      ],
      "text/plain": [
       "                    id date_time hurricane_id hurricane_name latitude  \\\n",
       "display_size      None      None         None           None     None   \n",
       "internal_size        4         4            2             -1        4   \n",
       "null_ok           None      None         None           None     None   \n",
       "precision         None      None         None           None        4   \n",
       "scale             None      None         None           None        1   \n",
       "type_code           23      1082           21             25     1700   \n",
       "type_description  int4      date         int2           text  numeric   \n",
       "\n",
       "                 longitude wind_speed_knots_per_second atmosphereic_pressure  \\\n",
       "display_size          None                        None                  None   \n",
       "internal_size            4                           2                     2   \n",
       "null_ok               None                        None                  None   \n",
       "precision                4                        None                  None   \n",
       "scale                    1                        None                  None   \n",
       "type_code             1700                          21                    21   \n",
       "type_description   numeric                        int2                  int2   \n",
       "\n",
       "                 category    basin hurricane_shape_length  \n",
       "display_size         None     None                   None  \n",
       "internal_size           2       20                      7  \n",
       "null_ok              None     None                   None  \n",
       "precision            None     None                      7  \n",
       "scale                None     None                      6  \n",
       "type_code            1043     1043                   1700  \n",
       "type_description  varchar  varchar                numeric  "
      ]
     },
     "execution_count": 125,
     "metadata": {},
     "output_type": "execute_result"
    }
   ],
   "source": [
    "ser = summary_df.loc['type_code'].map(type_mappings)\n",
    "ser.name = 'type_description'\n",
    "summary_df.append(ser)"
   ]
  },
  {
   "cell_type": "markdown",
   "metadata": {},
   "source": [
    "The empty table is prepared. The next step is to add the data."
   ]
  },
  {
   "cell_type": "markdown",
   "metadata": {},
   "source": [
    "## Write csv data to postgresql table"
   ]
  },
  {
   "cell_type": "code",
   "execution_count": 135,
   "metadata": {},
   "outputs": [],
   "source": [
    "import io\n",
    "from urllib import request\n",
    "from datetime import datetime"
   ]
  },
  {
   "cell_type": "code",
   "execution_count": 132,
   "metadata": {},
   "outputs": [],
   "source": [
    "response = request.urlopen('https://dq-content.s3.amazonaws.com/251/storm_data.csv')\n",
    "reader = csv.reader(io.TextIOWrapper(response))"
   ]
  },
  {
   "cell_type": "markdown",
   "metadata": {},
   "source": [
    "I started reading directly from the website, but eventually switched to just reading from the downloaded file while trying to get the rows formatted correctly."
   ]
  },
  {
   "cell_type": "code",
   "execution_count": 155,
   "metadata": {},
   "outputs": [],
   "source": [
    "with open('storm_data.csv') as f:\n",
    "    reader = csv.reader(f)\n",
    "    next(f)\n",
    "    mogrified = []\n",
    "    for row in reader:\n",
    "        updated_row = [row[0]]\n",
    "        date = datetime(int(row[1]), int(row[2]), int(row[3]), int(row[4][:2]), int(row[4][2:4]))\n",
    "        updated_row.append(date)\n",
    "        updated_row = updated_row + row[5:]\n",
    "        mogrified.append(cur.mogrify(\"(%s, %s, %s, %s, %s, %s, %s, %s, %s, %s, %s)\", updated_row).decode('utf8'))"
   ]
  },
  {
   "cell_type": "code",
   "execution_count": 162,
   "metadata": {},
   "outputs": [],
   "source": [
    "mogrified_values = \",\".join(mogrified)\n",
    "cur.execute('INSERT INTO storm_data VALUES' + mogrified_values)\n",
    "conn.commit()"
   ]
  },
  {
   "cell_type": "code",
   "execution_count": 186,
   "metadata": {},
   "outputs": [
    {
     "data": {
      "text/plain": [
       "[(2001,\n",
       "  datetime.date(1957, 8, 8),\n",
       "  63,\n",
       "  'NOTNAMED',\n",
       "  Decimal('22.5'),\n",
       "  Decimal('-140.0'),\n",
       "  50,\n",
       "  0,\n",
       "  'TS',\n",
       "  'Eastern Pacific',\n",
       "  Decimal('1.140175')),\n",
       " (2002,\n",
       "  datetime.date(1961, 10, 3),\n",
       "  116,\n",
       "  'PAULINE',\n",
       "  Decimal('22.1'),\n",
       "  Decimal('-140.2'),\n",
       "  45,\n",
       "  0,\n",
       "  'TS',\n",
       "  'Eastern Pacific',\n",
       "  Decimal('1.166190')),\n",
       " (2003,\n",
       "  datetime.date(1962, 8, 29),\n",
       "  124,\n",
       "  'C',\n",
       "  Decimal('18.0'),\n",
       "  Decimal('-140.0'),\n",
       "  45,\n",
       "  0,\n",
       "  'TS',\n",
       "  'Eastern Pacific',\n",
       "  Decimal('2.102380'))]"
      ]
     },
     "execution_count": 186,
     "metadata": {},
     "output_type": "execute_result"
    }
   ],
   "source": [
    "cur.execute('SELECT * FROM storm_data')\n",
    "cur.fetchall()[:3]"
   ]
  },
  {
   "cell_type": "markdown",
   "metadata": {},
   "source": [
    "## Create a user  \n",
    "I will create a user on the Postgres database that can insert, update, and read the data but not delete."
   ]
  },
  {
   "cell_type": "code",
   "execution_count": 168,
   "metadata": {},
   "outputs": [],
   "source": [
    "cur.execute(\"CREATE USER vash_the_stampede WITH PASSWORD 'Typh00n' NOSUPERUSER\")\n",
    "conn.commit()"
   ]
  },
  {
   "cell_type": "code",
   "execution_count": 169,
   "metadata": {},
   "outputs": [],
   "source": [
    "cur.execute('''REVOKE ALL ON storm_data FROM vash_the_stampede''')\n",
    "conn.commit()"
   ]
  },
  {
   "cell_type": "code",
   "execution_count": 170,
   "metadata": {},
   "outputs": [],
   "source": [
    "cur.execute('''GRANT SELECT ON storm_data TO vash_the_stampede''')\n",
    "cur.execute('''GRANT INSERT ON storm_data TO vash_the_stampede''')\n",
    "cur.execute('''GRANT UPDATE ON storm_data TO vash_the_stampede''')\n",
    "conn.commit()"
   ]
  },
  {
   "cell_type": "code",
   "execution_count": 187,
   "metadata": {},
   "outputs": [],
   "source": [
    "conn.close()"
   ]
  },
  {
   "cell_type": "markdown",
   "metadata": {},
   "source": [
    "## Check the new user account"
   ]
  },
  {
   "cell_type": "code",
   "execution_count": 188,
   "metadata": {},
   "outputs": [],
   "source": [
    "conn = psycopg2.connect(dbname='postgres', user='vash_the_stampede', password='Typh00n')\n",
    "cur = conn.cursor()"
   ]
  },
  {
   "cell_type": "code",
   "execution_count": 189,
   "metadata": {},
   "outputs": [],
   "source": [
    "cur.execute('SELECT * from storm_data')"
   ]
  },
  {
   "cell_type": "code",
   "execution_count": 190,
   "metadata": {},
   "outputs": [
    {
     "data": {
      "text/plain": [
       "[(2001,\n",
       "  datetime.date(1957, 8, 8),\n",
       "  63,\n",
       "  'NOTNAMED',\n",
       "  Decimal('22.5'),\n",
       "  Decimal('-140.0'),\n",
       "  50,\n",
       "  0,\n",
       "  'TS',\n",
       "  'Eastern Pacific',\n",
       "  Decimal('1.140175')),\n",
       " (2002,\n",
       "  datetime.date(1961, 10, 3),\n",
       "  116,\n",
       "  'PAULINE',\n",
       "  Decimal('22.1'),\n",
       "  Decimal('-140.2'),\n",
       "  45,\n",
       "  0,\n",
       "  'TS',\n",
       "  'Eastern Pacific',\n",
       "  Decimal('1.166190')),\n",
       " (2003,\n",
       "  datetime.date(1962, 8, 29),\n",
       "  124,\n",
       "  'C',\n",
       "  Decimal('18.0'),\n",
       "  Decimal('-140.0'),\n",
       "  45,\n",
       "  0,\n",
       "  'TS',\n",
       "  'Eastern Pacific',\n",
       "  Decimal('2.102380'))]"
      ]
     },
     "execution_count": 190,
     "metadata": {},
     "output_type": "execute_result"
    }
   ],
   "source": [
    "cur.fetchall()[:3]"
   ]
  },
  {
   "cell_type": "code",
   "execution_count": 176,
   "metadata": {},
   "outputs": [
    {
     "ename": "ProgrammingError",
     "evalue": "must be owner of table storm_data\n",
     "output_type": "error",
     "traceback": [
      "\u001b[1;31m---------------------------------------------------------------------------\u001b[0m",
      "\u001b[1;31mProgrammingError\u001b[0m                          Traceback (most recent call last)",
      "\u001b[1;32m<ipython-input-176-cba8a286d0fa>\u001b[0m in \u001b[0;36m<module>\u001b[1;34m()\u001b[0m\n\u001b[1;32m----> 1\u001b[1;33m \u001b[0mcur\u001b[0m\u001b[1;33m.\u001b[0m\u001b[0mexecute\u001b[0m\u001b[1;33m(\u001b[0m\u001b[1;34m'DROP TABLE storm_data'\u001b[0m\u001b[1;33m)\u001b[0m\u001b[1;33m\u001b[0m\u001b[0m\n\u001b[0m\u001b[0;32m      2\u001b[0m \u001b[0mconn\u001b[0m\u001b[1;33m.\u001b[0m\u001b[0mcommit\u001b[0m\u001b[1;33m(\u001b[0m\u001b[1;33m)\u001b[0m\u001b[1;33m\u001b[0m\u001b[0m\n",
      "\u001b[1;31mProgrammingError\u001b[0m: must be owner of table storm_data\n"
     ]
    }
   ],
   "source": [
    "cur.execute('DROP TABLE storm_data')\n",
    "conn.commit()"
   ]
  },
  {
   "cell_type": "code",
   "execution_count": 181,
   "metadata": {},
   "outputs": [
    {
     "ename": "ProgrammingError",
     "evalue": "permission denied for table storm_data\n",
     "output_type": "error",
     "traceback": [
      "\u001b[1;31m---------------------------------------------------------------------------\u001b[0m",
      "\u001b[1;31mProgrammingError\u001b[0m                          Traceback (most recent call last)",
      "\u001b[1;32m<ipython-input-181-5981afbdc3fb>\u001b[0m in \u001b[0;36m<module>\u001b[1;34m()\u001b[0m\n\u001b[1;32m----> 1\u001b[1;33m \u001b[0mcur\u001b[0m\u001b[1;33m.\u001b[0m\u001b[0mexecute\u001b[0m\u001b[1;33m(\u001b[0m\u001b[1;34m'DELETE FROM storm_data'\u001b[0m\u001b[1;33m)\u001b[0m\u001b[1;33m\u001b[0m\u001b[0m\n\u001b[0m\u001b[0;32m      2\u001b[0m \u001b[0mconn\u001b[0m\u001b[1;33m.\u001b[0m\u001b[0mcommit\u001b[0m\u001b[1;33m(\u001b[0m\u001b[1;33m)\u001b[0m\u001b[1;33m\u001b[0m\u001b[0m\n",
      "\u001b[1;31mProgrammingError\u001b[0m: permission denied for table storm_data\n"
     ]
    }
   ],
   "source": [
    "cur.execute('DELETE FROM storm_data')\n",
    "conn.commit()"
   ]
  },
  {
   "cell_type": "code",
   "execution_count": 191,
   "metadata": {},
   "outputs": [],
   "source": [
    "cur.close()"
   ]
  },
  {
   "cell_type": "code",
   "execution_count": null,
   "metadata": {},
   "outputs": [],
   "source": []
  }
 ],
 "metadata": {
  "kernelspec": {
   "display_name": "Python 3",
   "language": "python",
   "name": "python3"
  },
  "language_info": {
   "codemirror_mode": {
    "name": "ipython",
    "version": 3
   },
   "file_extension": ".py",
   "mimetype": "text/x-python",
   "name": "python",
   "nbconvert_exporter": "python",
   "pygments_lexer": "ipython3",
   "version": "3.6.5"
  }
 },
 "nbformat": 4,
 "nbformat_minor": 2
}
